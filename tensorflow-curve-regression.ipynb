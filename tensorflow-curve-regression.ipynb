{
 "cells": [
  {
   "cell_type": "code",
   "execution_count": null,
   "id": "5f15f81f-6743-48d5-a3f5-86c59c175bf7",
   "metadata": {},
   "outputs": [],
   "source": [
    "import numpy as np\n",
    "import matplotlib.pyplot as plt\n",
    "import tensorflow as tf\n",
    "print(tf._version_)"
   ]
  },
  {
   "cell_type": "code",
   "execution_count": 3,
   "id": "c99f5f1c-c868-4ac2-b20d-97dafa929079",
   "metadata": {},
   "outputs": [],
   "source": [
    "def sinusoid(x,A,f,p):\n",
    "    return A*np.sin(f*x+p)"
   ]
  },
  {
   "cell_type": "code",
   "execution_count": 7,
   "id": "17e2222f-6097-437a-89f1-8b193c90a723",
   "metadata": {},
   "outputs": [],
   "source": [
    "def generate_data(xmin=0.0, xmax=10.0, A=1.0, f=2.0, p=1.0, s=0.25, n=100):\n",
    "    #xmin is the min range of data\n",
    "    #xmax is the max range of data\n",
    "    #a is amplitudte\n",
    "    #f is the frequency\n",
    "    #p is phase\n",
    "    #s is gaussian std\n",
    "    #n is the number of samples\n",
    "\n",
    "    #pick rand location between xmin and max\n",
    "    x = np.asarray(np.random.uniform(low=xmin, high=xmax, size=n) ,dtype=np.float32)\n",
    "\n",
    "    #pick random y location centered on the curve\n",
    "    y = np.asarray(sinusoid(x,A,f,p) + s*np.random.randn(n), dtype=np.float32)\n",
    "\n",
    "    y_err = np.full(n,s,dtype=np.float32)\n",
    "    return x,y,y_err"
   ]
  },
  {
   "cell_type": "code",
   "execution_count": 8,
   "id": "7811c77b-fb6f-46e5-9724-68d6534fdf59",
   "metadata": {},
   "outputs": [],
   "source": [
    "x, y, y_err = generate_data()"
   ]
  },
  {
   "cell_type": "code",
   "execution_count": 13,
   "id": "c92207fa-f1be-4fae-9262-e6315e1cdfc7",
   "metadata": {},
   "outputs": [
    {
     "data": {
      "text/plain": [
       "(-2.0, 2.0)"
      ]
     },
     "execution_count": 13,
     "metadata": {},
     "output_type": "execute_result"
    },
    {
     "data": {
      "image/png": "[encoded data removed]",
      "text/plain": [
       "<Figure size 700x700 with 1 Axes>"
      ]
     },
     "metadata": {},
     "output_type": "display_data"
    }
   ],
   "source": [
    "f,ax = plt.subplots(1, 1, figsize=(7,7))\n",
    "#for tick in ax.xaxis.get_ticktables():\n",
    " #   tick.set_fontsize(20)\n",
    "#for tick in ax.yaxis.get_ticktables():\n",
    " #   tick.set_fontsize(20)\n",
    "ax.errorbar(x,y,y_err, fmt='o', label='Data')\n",
    "ax.set_xlim([-0.1,10.1])\n",
    "ax.set_ylim([-2.,2])"
   ]
  },
  {
   "cell_type": "code",
   "execution_count": 14,
   "id": "0b84796c-8375-4e4c-aab4-52c62f8e7ed8",
   "metadata": {},
   "outputs": [],
   "source": [
    "A_init = 2.0\n",
    "A_fit = tf.Variable(A_init,name='amplitude')\n",
    "\n",
    "f_init = 2.0\n",
    "f_fit = tf.Variable(f_init, name='frequency')\n",
    "\n",
    "p_init = 0.5\n",
    "p_fit = tf.Variable(p_init, name='phase')"
   ]
  },
  {
   "cell_type": "code",
   "execution_count": 15,
   "id": "455fb68a-6fa0-4ade-abc3-b0aef8266013",
   "metadata": {},
   "outputs": [],
   "source": [
    "@tf.function\n",
    "def sinusoidal_model(x):\n",
    "    return A_fit*tf.math.sin(f_fit*x + p_fit)"
   ]
  },
  {
   "cell_type": "code",
   "execution_count": 16,
   "id": "81349818-5b03-4d8d-9270-b145165c9636",
   "metadata": {},
   "outputs": [],
   "source": [
    "@tf.function\n",
    "def mse(y_true, y_pred):\n",
    "    return tf.losses.mean_squared_error(y_true,y_pred)"
   ]
  },
  {
   "cell_type": "code",
   "execution_count": 18,
   "id": "74f71230-bee9-4f00-8b3c-ec01cd1b876b",
   "metadata": {},
   "outputs": [],
   "source": [
    "optimizer = tf.keras.optimizers.legacy.Adam(learning_rate=0.001)"
   ]
  },
  {
   "cell_type": "code",
   "execution_count": 23,
   "id": "d9aa337f-9d86-4308-ace6-527e80e737b7",
   "metadata": {},
   "outputs": [
    {
     "name": "stdout",
     "output_type": "stream",
     "text": [
      "Epoch 0 | Loss 0.8449400067329407, A:2.0 f:2.0 p:0.5\n",
      "Epoch 1000 | Loss 0.09211645275354385, A:1.264135479927063 f:2.0204036235809326 p:0.8844419121742249\n",
      "Epoch 2000 | Loss 0.05040694773197174, A:1.0051252841949463 f:2.0157501697540283 p:0.9177553057670593\n",
      "Epoch 3000 | Loss 0.04990750178694725, A:0.9741633534431458 f:2.018324851989746 p:0.9012748599052429\n",
      "Epoch 4000 | Loss 0.049906954169273376, A:0.9733900427818298 f:2.0185842514038086 p:0.8995855450630188\n",
      "Epoch5000 | Loss0.049906980246305466, A: 0.9733878374099731, f: 2.0185861587524414, p:0.8995736837387085\n",
      "Done!\n"
     ]
    }
   ],
   "source": [
    "epochs = 5000\n",
    "display_step = 1000\n",
    "\n",
    "for epoch in range(epochs):\n",
    "    if((epoch%display_step)==0):\n",
    "        pred = sinusoidal_model(x)\n",
    "        loss = mse(pred, y)\n",
    "\n",
    "        print(f\"Epoch {epoch} | Loss {loss.numpy()}, A:{A_fit.numpy()} f:{f_fit.numpy()} p:{p_fit.numpy()}\")\n",
    "    with tf.GradientTape() as g:\n",
    "        pred = sinusoidal_model(x)\n",
    "        loss = mse(y,pred)\n",
    "    gradients = g.gradient(loss, [A_fit, f_fit, p_fit])\n",
    "    optimizer.apply_gradients(zip(gradients,[A_fit,f_fit,p_fit]))\n",
    "\n",
    "print(f\"Epoch{epochs} | Loss{loss.numpy()}, A: {A_fit.numpy()}, f: {f_fit.numpy()}, p:{p_fit.numpy()}\")\n",
    "print(\"Done!\")"
   ]
  },
  {
   "cell_type": "code",
   "execution_count": null,
   "id": "711de3eb-db32-45c4-b3e4-aae422e7bc73",
   "metadata": {},
   "outputs": [],
   "source": []
  }
 ],
 "metadata": {
  "kernelspec": {
   "display_name": "Python 3 (ipykernel)",
   "language": "python",
   "name": "python3"
  },
  "language_info": {
   "codemirror_mode": {
    "name": "ipython",
    "version": 3
   },
   "file_extension": ".py",
   "mimetype": "text/x-python",
   "name": "python",
   "nbconvert_exporter": "python",
   "pygments_lexer": "ipython3",
   "version": "3.11.5"
  }
 },
 "nbformat": 4,
 "nbformat_minor": 5
}
